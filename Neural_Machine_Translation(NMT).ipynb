{
  "nbformat": 4,
  "nbformat_minor": 0,
  "metadata": {
    "colab": {
      "name": "Neural Machine Translation(NMT).ipynb",
      "provenance": [],
      "collapsed_sections": [],
      "include_colab_link": true
    },
    "kernelspec": {
      "display_name": "Python 3",
      "name": "python3"
    },
    "language_info": {
      "name": "python"
    },
    "accelerator": "GPU"
  },
  "cells": [
    {
      "cell_type": "markdown",
      "metadata": {
        "id": "view-in-github",
        "colab_type": "text"
      },
      "source": [
        "<a href=\"https://colab.research.google.com/github/faouziMohamed/language-translation/blob/main/Neural_Machine_Translation(NMT).ipynb\" target=\"_parent\"><img src=\"https://colab.research.google.com/assets/colab-badge.svg\" alt=\"Open In Colab\"/></a>"
      ]
    },
    {
      "cell_type": "markdown",
      "metadata": {
        "id": "vTq7NqHYAVbd"
      },
      "source": [
        "Here a exemple of preparing data to be fit in a Model of recurrent Neural Network"
      ]
    },
    {
      "cell_type": "code",
      "metadata": {
        "id": "dkhaUp0dAmHT"
      },
      "source": [
        "import tensorflow as tf"
      ],
      "execution_count": null,
      "outputs": []
    },
    {
      "cell_type": "markdown",
      "metadata": {
        "id": "_sZk-Cw7Aq1_"
      },
      "source": [
        "# **Loading data**"
      ]
    },
    {
      "cell_type": "markdown",
      "metadata": {
        "id": "Dr_ByH34AxKn"
      },
      "source": [
        "## **Download and extraction of the dataset**"
      ]
    },
    {
      "cell_type": "code",
      "metadata": {
        "id": "j9Lm-WhHGgMV"
      },
      "source": [
        "import requests\n",
        "dataset='en-fr.csv'\n",
        "csv_filename= dataset\n",
        "\n",
        "# Request and Download data from the given URL\n",
        "data = requests.get(\"https://cra-acem.tech/dpl-project/dataset\")\n",
        "\n",
        "with open(dataset, 'wb') as dt:\n",
        "  # Saving the dataset (writting the content in dataset csv files)\n",
        "  dt.write(data.content)"
      ],
      "execution_count": null,
      "outputs": []
    },
    {
      "cell_type": "markdown",
      "metadata": {
        "id": "Q3iM6G1bCmS1"
      },
      "source": [
        "### **Reading the dataset from CSV format to a Pandas dataframe and Rename columns**"
      ]
    },
    {
      "cell_type": "code",
      "metadata": {
        "id": "P6MG9BBmD46E"
      },
      "source": [
        "import pandas as pd\n",
        "df = pd.read_csv(\"en-fr.csv\")"
      ],
      "execution_count": null,
      "outputs": []
    },
    {
      "cell_type": "code",
      "metadata": {
        "colab": {
          "base_uri": "https://localhost:8080/",
          "height": 206
        },
        "id": "K_TgZa3iOtpk",
        "outputId": "97640ad1-b91d-4ccd-f465-4ace8365f1ff"
      },
      "source": [
        "display(df.head())"
      ],
      "execution_count": null,
      "outputs": [
        {
          "output_type": "display_data",
          "data": {
            "text/html": [
              "<div>\n",
              "<style scoped>\n",
              "    .dataframe tbody tr th:only-of-type {\n",
              "        vertical-align: middle;\n",
              "    }\n",
              "\n",
              "    .dataframe tbody tr th {\n",
              "        vertical-align: top;\n",
              "    }\n",
              "\n",
              "    .dataframe thead th {\n",
              "        text-align: right;\n",
              "    }\n",
              "</style>\n",
              "<table border=\"1\" class=\"dataframe\">\n",
              "  <thead>\n",
              "    <tr style=\"text-align: right;\">\n",
              "      <th></th>\n",
              "      <th>EN</th>\n",
              "      <th>FR</th>\n",
              "    </tr>\n",
              "  </thead>\n",
              "  <tbody>\n",
              "    <tr>\n",
              "      <th>0</th>\n",
              "      <td>Go.</td>\n",
              "      <td>Va !</td>\n",
              "    </tr>\n",
              "    <tr>\n",
              "      <th>1</th>\n",
              "      <td>Go.</td>\n",
              "      <td>Marche.</td>\n",
              "    </tr>\n",
              "    <tr>\n",
              "      <th>2</th>\n",
              "      <td>Go.</td>\n",
              "      <td>Bouge !</td>\n",
              "    </tr>\n",
              "    <tr>\n",
              "      <th>3</th>\n",
              "      <td>Hi.</td>\n",
              "      <td>Salut !</td>\n",
              "    </tr>\n",
              "    <tr>\n",
              "      <th>4</th>\n",
              "      <td>Hi.</td>\n",
              "      <td>Salut.</td>\n",
              "    </tr>\n",
              "  </tbody>\n",
              "</table>\n",
              "</div>"
            ],
            "text/plain": [
              "    EN       FR\n",
              "0  Go.     Va !\n",
              "1  Go.  Marche.\n",
              "2  Go.  Bouge !\n",
              "3  Hi.  Salut !\n",
              "4  Hi.   Salut."
            ]
          },
          "metadata": {
            "tags": []
          }
        }
      ]
    },
    {
      "cell_type": "code",
      "metadata": {
        "id": "thpF9DYNmlDa",
        "colab": {
          "base_uri": "https://localhost:8080/",
          "height": 206
        },
        "outputId": "0b10b5ea-fb3b-404a-bd4f-29637df65d90"
      },
      "source": [
        "# Renaming columns\n",
        "to_rename = zip(df.columns, [\"english\", \"french\"])\n",
        "df = df.rename(columns=dict(to_rename))\n",
        "display(df.head())"
      ],
      "execution_count": null,
      "outputs": [
        {
          "output_type": "display_data",
          "data": {
            "text/html": [
              "<div>\n",
              "<style scoped>\n",
              "    .dataframe tbody tr th:only-of-type {\n",
              "        vertical-align: middle;\n",
              "    }\n",
              "\n",
              "    .dataframe tbody tr th {\n",
              "        vertical-align: top;\n",
              "    }\n",
              "\n",
              "    .dataframe thead th {\n",
              "        text-align: right;\n",
              "    }\n",
              "</style>\n",
              "<table border=\"1\" class=\"dataframe\">\n",
              "  <thead>\n",
              "    <tr style=\"text-align: right;\">\n",
              "      <th></th>\n",
              "      <th>english</th>\n",
              "      <th>french</th>\n",
              "    </tr>\n",
              "  </thead>\n",
              "  <tbody>\n",
              "    <tr>\n",
              "      <th>0</th>\n",
              "      <td>Go.</td>\n",
              "      <td>Va !</td>\n",
              "    </tr>\n",
              "    <tr>\n",
              "      <th>1</th>\n",
              "      <td>Go.</td>\n",
              "      <td>Marche.</td>\n",
              "    </tr>\n",
              "    <tr>\n",
              "      <th>2</th>\n",
              "      <td>Go.</td>\n",
              "      <td>Bouge !</td>\n",
              "    </tr>\n",
              "    <tr>\n",
              "      <th>3</th>\n",
              "      <td>Hi.</td>\n",
              "      <td>Salut !</td>\n",
              "    </tr>\n",
              "    <tr>\n",
              "      <th>4</th>\n",
              "      <td>Hi.</td>\n",
              "      <td>Salut.</td>\n",
              "    </tr>\n",
              "  </tbody>\n",
              "</table>\n",
              "</div>"
            ],
            "text/plain": [
              "  english   french\n",
              "0     Go.     Va !\n",
              "1     Go.  Marche.\n",
              "2     Go.  Bouge !\n",
              "3     Hi.  Salut !\n",
              "4     Hi.   Salut."
            ]
          },
          "metadata": {
            "tags": []
          }
        }
      ]
    },
    {
      "cell_type": "markdown",
      "metadata": {
        "id": "QQueELgQ6oHi"
      },
      "source": [
        "## **Dataset informations**"
      ]
    },
    {
      "cell_type": "markdown",
      "metadata": {
        "id": "FCh3wScwFyaJ"
      },
      "source": [
        "### **Adding some statistics data for more visualization**"
      ]
    },
    {
      "cell_type": "code",
      "metadata": {
        "id": "4o-V0YoQF-IW"
      },
      "source": [
        "def word_count (txt):\n",
        "    return len(txt.split())\n",
        "\n",
        "def add_stats_data(df):\n",
        "  df['eng_word_count'] = df.english.apply(lambda x: word_count(x))\n",
        "  df['fr_word_count'] = df.french.apply(lambda x: word_count(x))\n",
        "  return df"
      ],
      "execution_count": null,
      "outputs": []
    },
    {
      "cell_type": "code",
      "metadata": {
        "id": "1niPg9GgGIQh"
      },
      "source": [
        "df = add_stats_data(df)"
      ],
      "execution_count": null,
      "outputs": []
    },
    {
      "cell_type": "markdown",
      "metadata": {
        "id": "XlZy0fs8xbNu"
      },
      "source": [
        "# **Visualization of data**"
      ]
    },
    {
      "cell_type": "code",
      "metadata": {
        "id": "bjcgDoQAOCLp"
      },
      "source": [
        "from matplotlib import pyplot as plt \n",
        "def get_frequency(data, lang, col):\n",
        "  frequency = [\n",
        "    data.loc[data[col] == i][lang].count() for i in range(1, 25)\n",
        "  ]\n",
        "  return frequency\n",
        "\n",
        "def barv_line_combined(data, title, color=\"blue\"):\n",
        "  plt.bar(range(1, 25), data, color=color)\n",
        "  plt.plot(range(1, 25), data, color=color)\n",
        "  plt.xticks(range(1, 25))\n",
        "  plt.xlabel(\"Number of words\")\n",
        "  plt.ylabel(\"Frequency of a number of word\")\n",
        "  plt.title(title)\n",
        "\n",
        "def visualize_frequency(data, figsize=(18,5)):\n",
        "  x={ \"english\":get_frequency(data, \"english\", \"eng_word_count\"),\n",
        "      \"french\": get_frequency(data, \"french\", \"fr_word_count\")}\n",
        "\n",
        "  plt.figure(figsize=figsize)\n",
        "  plt.subplot(1, 2, 1)\n",
        "  barv_line_combined(x[\"english\"], \"English words distribution\")\n",
        "\n",
        "  plt.subplot(1, 2, 2)\n",
        "  barv_line_combined(x[\"french\"], \"French words distribution\")\n",
        "  plt.show()"
      ],
      "execution_count": null,
      "outputs": []
    },
    {
      "cell_type": "code",
      "metadata": {
        "id": "6o6In1rSMsTN",
        "colab": {
          "base_uri": "https://localhost:8080/",
          "height": 112
        },
        "outputId": "5a4f1496-6f3b-47ca-e3df-52d14f449144"
      },
      "source": [
        "pd.DataFrame({\n",
        "    \"Total_number_of_sentences\":[df.english.count()]*2,\n",
        "    \"Total_number_of_words\": [df.eng_word_count.sum(), df.fr_word_count.sum()]\n",
        "  },\n",
        "    index=[\"English\", \"French\"]\n",
        ")"
      ],
      "execution_count": null,
      "outputs": [
        {
          "output_type": "execute_result",
          "data": {
            "text/html": [
              "<div>\n",
              "<style scoped>\n",
              "    .dataframe tbody tr th:only-of-type {\n",
              "        vertical-align: middle;\n",
              "    }\n",
              "\n",
              "    .dataframe tbody tr th {\n",
              "        vertical-align: top;\n",
              "    }\n",
              "\n",
              "    .dataframe thead th {\n",
              "        text-align: right;\n",
              "    }\n",
              "</style>\n",
              "<table border=\"1\" class=\"dataframe\">\n",
              "  <thead>\n",
              "    <tr style=\"text-align: right;\">\n",
              "      <th></th>\n",
              "      <th>Total_number_of_sentences</th>\n",
              "      <th>Total_number_of_words</th>\n",
              "    </tr>\n",
              "  </thead>\n",
              "  <tbody>\n",
              "    <tr>\n",
              "      <th>English</th>\n",
              "      <td>185583</td>\n",
              "      <td>1129385</td>\n",
              "    </tr>\n",
              "    <tr>\n",
              "      <th>French</th>\n",
              "      <td>185583</td>\n",
              "      <td>1231329</td>\n",
              "    </tr>\n",
              "  </tbody>\n",
              "</table>\n",
              "</div>"
            ],
            "text/plain": [
              "         Total_number_of_sentences  Total_number_of_words\n",
              "English                     185583                1129385\n",
              "French                      185583                1231329"
            ]
          },
          "metadata": {
            "tags": []
          },
          "execution_count": 9
        }
      ]
    },
    {
      "cell_type": "code",
      "metadata": {
        "colab": {
          "base_uri": "https://localhost:8080/",
          "height": 288
        },
        "id": "Npn7MARLNxMJ",
        "outputId": "e01931d0-b429-4110-bbcd-6c399c3457d4"
      },
      "source": [
        "from IPython.display import Markdown\n",
        "\n",
        "display(Markdown(\"<h2 align='center'>Words count distribution</h2>\", ))\n",
        "visualize_frequency(df)"
      ],
      "execution_count": null,
      "outputs": [
        {
          "output_type": "display_data",
          "data": {
            "text/markdown": "<h2 align='center'>Words count distribution</h2>",
            "text/plain": [
              "<IPython.core.display.Markdown object>"
            ]
          },
          "metadata": {
            "tags": []
          }
        },
        {
          "output_type": "display_data",
          "data": {
            "image/png": "[encoded data removed]",
            "text/plain": [
              "<Figure size 1296x360 with 2 Axes>"
            ]
          },
          "metadata": {
            "tags": [],
            "needs_background": "light"
          }
        }
      ]
    },
    {
      "cell_type": "code",
      "metadata": {
        "id": "L_8KGJRmxgKO",
        "colab": {
          "base_uri": "https://localhost:8080/",
          "height": 289
        },
        "outputId": "2f20fa4d-0004-43e2-bf6a-87ad2913ca60"
      },
      "source": [
        "display(Markdown(\"<h2 align='center'>Some random data</h2>\", ))\n",
        "display(df.sample(n=5, replace=True))"
      ],
      "execution_count": null,
      "outputs": [
        {
          "output_type": "display_data",
          "data": {
            "text/markdown": "<h2 align='center'>Some random data</h2>",
            "text/plain": [
              "<IPython.core.display.Markdown object>"
            ]
          },
          "metadata": {
            "tags": []
          }
        },
        {
          "output_type": "display_data",
          "data": {
            "text/html": [
              "<div>\n",
              "<style scoped>\n",
              "    .dataframe tbody tr th:only-of-type {\n",
              "        vertical-align: middle;\n",
              "    }\n",
              "\n",
              "    .dataframe tbody tr th {\n",
              "        vertical-align: top;\n",
              "    }\n",
              "\n",
              "    .dataframe thead th {\n",
              "        text-align: right;\n",
              "    }\n",
              "</style>\n",
              "<table border=\"1\" class=\"dataframe\">\n",
              "  <thead>\n",
              "    <tr style=\"text-align: right;\">\n",
              "      <th></th>\n",
              "      <th>english</th>\n",
              "      <th>french</th>\n",
              "      <th>eng_word_count</th>\n",
              "      <th>fr_word_count</th>\n",
              "    </tr>\n",
              "  </thead>\n",
              "  <tbody>\n",
              "    <tr>\n",
              "      <th>34213</th>\n",
              "      <td>I sleep in the nude.</td>\n",
              "      <td>Je dors à poil.</td>\n",
              "      <td>5</td>\n",
              "      <td>4</td>\n",
              "    </tr>\n",
              "    <tr>\n",
              "      <th>84532</th>\n",
              "      <td>She especially likes music.</td>\n",
              "      <td>Elle aime particulièrement la musique.</td>\n",
              "      <td>4</td>\n",
              "      <td>5</td>\n",
              "    </tr>\n",
              "    <tr>\n",
              "      <th>3099</th>\n",
              "      <td>I was ready.</td>\n",
              "      <td>J'étais prête.</td>\n",
              "      <td>3</td>\n",
              "      <td>2</td>\n",
              "    </tr>\n",
              "    <tr>\n",
              "      <th>118671</th>\n",
              "      <td>Someone has stolen all my money.</td>\n",
              "      <td>Quelqu'un m'a volé tout mon argent.</td>\n",
              "      <td>6</td>\n",
              "      <td>6</td>\n",
              "    </tr>\n",
              "    <tr>\n",
              "      <th>55561</th>\n",
              "      <td>She picked me an apple.</td>\n",
              "      <td>Elle m'a cueilli une pomme.</td>\n",
              "      <td>5</td>\n",
              "      <td>5</td>\n",
              "    </tr>\n",
              "  </tbody>\n",
              "</table>\n",
              "</div>"
            ],
            "text/plain": [
              "                                 english  ... fr_word_count\n",
              "34213               I sleep in the nude.  ...             4\n",
              "84532        She especially likes music.  ...             5\n",
              "3099                        I was ready.  ...             2\n",
              "118671  Someone has stolen all my money.  ...             6\n",
              "55561            She picked me an apple.  ...             5\n",
              "\n",
              "[5 rows x 4 columns]"
            ]
          },
          "metadata": {
            "tags": []
          }
        }
      ]
    },
    {
      "cell_type": "markdown",
      "metadata": {
        "id": "ebRLlc0Fw8v2"
      },
      "source": [
        "# **Cleaning data**"
      ]
    },
    {
      "cell_type": "code",
      "metadata": {
        "id": "H22FERJSX-mA"
      },
      "source": [
        "import re\n",
        "import string"
      ],
      "execution_count": null,
      "outputs": []
    },
    {
      "cell_type": "code",
      "metadata": {
        "id": "_XZvYVBgZCrL"
      },
      "source": [
        "def clean(text):\n",
        "  \"\"\"Clean the text\"\"\"\n",
        "  removable_patterns = [\n",
        "    \"\\[.*?\\]\", \"\\(.*?\\)\", \"\\{.*?\\}\", # Remove text within bracket\n",
        "    \"\\d+\",   # Remove numbers\n",
        "  ]\n",
        "  text = text.lower()\n",
        "  for pattern in removable_patterns:\n",
        "    text = re.sub(pattern, ' ', text)\n",
        "\n",
        "  # Remove punctuations and some unwanted characters\n",
        "  for p in f\"{string.punctuation}»«…\":\n",
        "    text = text.replace(p, \" \")\n",
        "\n",
        "  # Remove whitespaces characters\n",
        "  text = re.sub('\\s+',' ', text)\n",
        "  return text.strip()\n",
        "\n",
        "# clean(\"now, when …I see an 18-year-old girl, my automatic thought…\")"
      ],
      "execution_count": null,
      "outputs": []
    },
    {
      "cell_type": "code",
      "metadata": {
        "id": "jDCPm2xral-T"
      },
      "source": [
        "df = df.drop(axis=1, columns=['eng_word_count', 'fr_word_count'])\n",
        "df.english = df.english.apply(lambda s: clean(s))\n",
        "df.french = df.french.apply(lambda s: clean(s))"
      ],
      "execution_count": null,
      "outputs": []
    },
    {
      "cell_type": "markdown",
      "metadata": {
        "id": "4vrAANn2yGPr"
      },
      "source": [
        "## **Visualization after cleaning**"
      ]
    },
    {
      "cell_type": "code",
      "metadata": {
        "id": "A-9DM7y2yD04",
        "colab": {
          "base_uri": "https://localhost:8080/",
          "height": 206
        },
        "outputId": "b174c71b-c738-48fd-e7fe-d135ea955df9"
      },
      "source": [
        "display(df.sample(n=5))"
      ],
      "execution_count": null,
      "outputs": [
        {
          "output_type": "display_data",
          "data": {
            "text/html": [
              "<div>\n",
              "<style scoped>\n",
              "    .dataframe tbody tr th:only-of-type {\n",
              "        vertical-align: middle;\n",
              "    }\n",
              "\n",
              "    .dataframe tbody tr th {\n",
              "        vertical-align: top;\n",
              "    }\n",
              "\n",
              "    .dataframe thead th {\n",
              "        text-align: right;\n",
              "    }\n",
              "</style>\n",
              "<table border=\"1\" class=\"dataframe\">\n",
              "  <thead>\n",
              "    <tr style=\"text-align: right;\">\n",
              "      <th></th>\n",
              "      <th>english</th>\n",
              "      <th>french</th>\n",
              "    </tr>\n",
              "  </thead>\n",
              "  <tbody>\n",
              "    <tr>\n",
              "      <th>96034</th>\n",
              "      <td>how did you get here so fast</td>\n",
              "      <td>comment es tu arrivée ici si rapidement</td>\n",
              "    </tr>\n",
              "    <tr>\n",
              "      <th>131555</th>\n",
              "      <td>chocolate is toxic to many animals</td>\n",
              "      <td>le chocolat est toxique pour de nombreux animaux</td>\n",
              "    </tr>\n",
              "    <tr>\n",
              "      <th>22825</th>\n",
              "      <td>i really am sorry</td>\n",
              "      <td>je suis vraiment désolé</td>\n",
              "    </tr>\n",
              "    <tr>\n",
              "      <th>53688</th>\n",
              "      <td>i love being a teacher</td>\n",
              "      <td>j adore être enseignante</td>\n",
              "    </tr>\n",
              "    <tr>\n",
              "      <th>157505</th>\n",
              "      <td>what do you study a foreign language for</td>\n",
              "      <td>pourquoi apprends tu une langue étrangère</td>\n",
              "    </tr>\n",
              "  </tbody>\n",
              "</table>\n",
              "</div>"
            ],
            "text/plain": [
              "                                         english                                            french\n",
              "96034               how did you get here so fast           comment es tu arrivée ici si rapidement\n",
              "131555        chocolate is toxic to many animals  le chocolat est toxique pour de nombreux animaux\n",
              "22825                          i really am sorry                           je suis vraiment désolé\n",
              "53688                     i love being a teacher                          j adore être enseignante\n",
              "157505  what do you study a foreign language for         pourquoi apprends tu une langue étrangère"
            ]
          },
          "metadata": {
            "tags": []
          }
        }
      ]
    },
    {
      "cell_type": "markdown",
      "metadata": {
        "id": "QoPaTVrFJB4x"
      },
      "source": [
        "# **Preprocessing data for the training**"
      ]
    },
    {
      "cell_type": "markdown",
      "metadata": {
        "id": "DUr1GBCU5Ttl"
      },
      "source": [
        "## **Preparing Train & Test Data**"
      ]
    },
    {
      "cell_type": "code",
      "metadata": {
        "id": "eEUfH80p6uo4"
      },
      "source": [
        "from time import localtime\n",
        "from tensorflow.keras.preprocessing.text import Tokenizer\n",
        "from tensorflow.keras.preprocessing.sequence import pad_sequences"
      ],
      "execution_count": null,
      "outputs": []
    },
    {
      "cell_type": "code",
      "metadata": {
        "id": "hzE5ItYfa4_s"
      },
      "source": [
        "def train_test_data(dataframe, train_size=9500):\n",
        "  train_size = 9500\n",
        "  dataframe = dataframe.sample(n=14000, random_state=localtime().tm_sec)\n",
        "  train_set = dataframe[:train_size].reset_index(drop=True)\n",
        "  test_set = dataframe[train_size:].reset_index(drop=True)\n",
        "  return train_set, test_set\n",
        "\n",
        "def tokenize(lines, maxlen, num_words=1500):\n",
        "  tokenizer = Tokenizer(oov_token='UNK', num_words=num_words)\n",
        "  tokenizer.fit_on_texts(lines)\n",
        "  vocab_size = len(tokenizer.word_counts)+1\n",
        "  sequences = tokenizer.texts_to_sequences(lines)\n",
        "  \n",
        "  sequences = pad_sequences(sequences, padding='post', maxlen=maxlen)\n",
        "  return tokenizer, sequences\n",
        "\n",
        "def max_len(lines): \n",
        "  return max(len(s.split()) for s in lines.to_numpy())"
      ],
      "execution_count": null,
      "outputs": []
    },
    {
      "cell_type": "code",
      "metadata": {
        "id": "zfGyhpHlUQiQ"
      },
      "source": [
        "train_set, test_set = train_test_data(df)\n",
        "train_set.french = train_set.french.apply(lambda x: f'START {x} END')\n",
        "test_set.french = train_set.french.apply(lambda x: f'START {x} END')"
      ],
      "execution_count": null,
      "outputs": []
    },
    {
      "cell_type": "markdown",
      "metadata": {
        "id": "ax0iciuiKylS"
      },
      "source": [
        "### **Processing encoder data**"
      ]
    },
    {
      "cell_type": "code",
      "metadata": {
        "id": "eemy0JlRJ4-0"
      },
      "source": [
        "max_input_length =  max_len(train_set.english)\n",
        "eng_tok, encoder_input_data = tokenize(train_set.english, max_input_length)\n",
        "num_encoder_tokens = len(eng_tok.word_index)+1"
      ],
      "execution_count": null,
      "outputs": []
    },
    {
      "cell_type": "markdown",
      "metadata": {
        "id": "l8pZcW7oK6EF"
      },
      "source": [
        "### **Processing decoder data**"
      ]
    },
    {
      "cell_type": "code",
      "metadata": {
        "id": "kQerDDC9J-CG"
      },
      "source": [
        "from tensorflow.keras.utils import to_categorical\n",
        "\n",
        "max_output_length =  max_len(train_set.french)\n",
        "fr_tok, decoder_input_data = tokenize(train_set.french, max_output_length)\n",
        "num_decoder_tokens = len(fr_tok.word_index)+1\n",
        "\n",
        "# One hot-encoding the decoder target output data \n",
        "# decoder_target_data = to_categorical(decoder_input_data, num_classes=num_decoder_tokens)"
      ],
      "execution_count": null,
      "outputs": []
    },
    {
      "cell_type": "markdown",
      "metadata": {
        "id": "7zFIM9hgsX-F"
      },
      "source": [
        "# **Recurrent Neural Network**"
      ]
    },
    {
      "cell_type": "markdown",
      "metadata": {
        "id": "lXKRH1cUso82"
      },
      "source": [
        "## **Architecture**"
      ]
    },
    {
      "cell_type": "code",
      "metadata": {
        "id": "DKBc3NVnik0o"
      },
      "source": [
        "from tensorflow.keras.layers import Input, Embedding, GRU, TimeDistributed, Dense\n",
        "from tensorflow.keras.models import Model"
      ],
      "execution_count": null,
      "outputs": []
    },
    {
      "cell_type": "code",
      "metadata": {
        "id": "Hrk3siiWDhbR"
      },
      "source": [
        "# setting hyperparameters\n",
        "embedding_size = 120\n",
        "hsize = 324"
      ],
      "execution_count": null,
      "outputs": []
    },
    {
      "cell_type": "markdown",
      "metadata": {
        "id": "l87wsUduR0tG"
      },
      "source": [
        "### **Model for training**"
      ]
    },
    {
      "cell_type": "code",
      "metadata": {
        "id": "EIxFb-z3Ds5C"
      },
      "source": [
        "### Encoder\n",
        "# Define an input layer which accepts a sequence of word IDs\n",
        "encoder_inputs = Input(shape=(max_input_length,), name='encoder_train_input')\n",
        "# Define an Embedding layer which accepts encoder_inputs\n",
        "encoder_emb = Embedding(num_encoder_tokens, embedding_size, name='encoder_train_embedding')(encoder_inputs)\n",
        "encoder_gru = GRU(hsize, return_state=True, name='encoder_train_gru')\n",
        "encoder_outputs, en_state = encoder_gru(encoder_emb)\n",
        "\n",
        "### Decoder\n",
        "decoder_inputs = Input(shape=(max_output_length,), name='decoder_train_input')\n",
        "# Define an Embedding layer which accepts decoder_inputs\n",
        "decoder_emb = Embedding(num_decoder_tokens, embedding_size, name='decoder_train_embedding')(decoder_inputs)\n",
        "decoder_gru = GRU(hsize, return_sequences=True, return_state=True, name='decoder_train_gru')\n",
        "decoder_outputs, _ = decoder_gru(decoder_emb, initial_state=en_state)\n",
        "decoder_dense = TimeDistributed(Dense(num_decoder_tokens, activation='softmax', name='decoder_train_dense'), name='decoder_train_td')\n",
        "decoder_outputs = decoder_dense(decoder_outputs)\n",
        "\n",
        "# Define the Model which accepts encoder/decoder inputs and outputs predictions \n",
        "model = Model([encoder_inputs, decoder_inputs], decoder_outputs, name='decoder_train_model')\n",
        "model.compile(optimizer='adam', loss='categorical_crossentropy', metrics=['accuracy'])"
      ],
      "execution_count": null,
      "outputs": []
    },
    {
      "cell_type": "code",
      "metadata": {
        "id": "X2ZpYO5e75Dg"
      },
      "source": [
        "from tensorflow.keras.utils import plot_model\n",
        "plot_model(model, show_shapes=True)"
      ],
      "execution_count": null,
      "outputs": []
    },
    {
      "cell_type": "code",
      "metadata": {
        "id": "KO345S3b75Ax"
      },
      "source": [
        "# hist = model.fit([encoder_input_data, decoder_input_data], decoder_target_data, epochs=10, batch_size=64, validation_split=0.2)"
      ],
      "execution_count": null,
      "outputs": []
    },
    {
      "cell_type": "markdown",
      "metadata": {
        "id": "2cV9VJTvSBKR"
      },
      "source": [
        "### **Model for prediction (Translation)**"
      ]
    },
    {
      "cell_type": "code",
      "metadata": {
        "id": "BG5-3RqS2mRD"
      },
      "source": [
        "encoder_model = Model(encoder_inputs, en_state, name='encoder_predict')\n",
        "\n",
        "decoder_state_inputs = Input(shape=(hsize,), name='decoder_predict_inp_state')\n",
        "decoder_embeding = Embedding(num_decoder_tokens, embedding_size, name='decoder_pred_embedding')(decoder_inputs)\n",
        "\n",
        "decoder_outputs2, state_2 = decoder_gru(decoder_embeding, initial_state=decoder_state_inputs)\n",
        "decoder_outputs2 = decoder_dense(decoder_outputs2)\n",
        "\n",
        "decoder_model = Model([decoder_inputs, decoder_state_inputs], [decoder_outputs2, state_2], name='decoder_predict')"
      ],
      "execution_count": null,
      "outputs": []
    },
    {
      "cell_type": "code",
      "metadata": {
        "id": "0D85g6jV3tD7"
      },
      "source": [
        "plot_model(decoder_model, show_shapes=True)"
      ],
      "execution_count": null,
      "outputs": []
    },
    {
      "cell_type": "markdown",
      "metadata": {
        "id": "5moWa2-FU5Gv"
      },
      "source": [
        "# **Generating Translation** "
      ]
    },
    {
      "cell_type": "code",
      "metadata": {
        "id": "tL78n6UGRal4"
      },
      "source": [
        "def decode_sequence(input_seq):\n",
        "  states_values = encoder_model.predict(input_seq)"
      ],
      "execution_count": null,
      "outputs": []
    },
    {
      "cell_type": "code",
      "metadata": {
        "colab": {
          "base_uri": "https://localhost:8080/",
          "height": 169
        },
        "id": "3CGvqn8_TunP",
        "outputId": "a2e44a34-113e-411e-8e6f-fe3bb5b9d7d6"
      },
      "source": [
        "np.zeros((1,1))"
      ],
      "execution_count": null,
      "outputs": [
        {
          "output_type": "error",
          "ename": "NameError",
          "evalue": "ignored",
          "traceback": [
            "\u001b[0;31m---------------------------------------------------------------------------\u001b[0m",
            "\u001b[0;31mNameError\u001b[0m                                 Traceback (most recent call last)",
            "\u001b[0;32m<ipython-input-38-f25f66110754>\u001b[0m in \u001b[0;36m<module>\u001b[0;34m()\u001b[0m\n\u001b[0;32m----> 1\u001b[0;31m \u001b[0mnp\u001b[0m\u001b[0;34m.\u001b[0m\u001b[0mzeros\u001b[0m\u001b[0;34m(\u001b[0m\u001b[0;34m(\u001b[0m\u001b[0;36m1\u001b[0m\u001b[0;34m,\u001b[0m\u001b[0;36m1\u001b[0m\u001b[0;34m)\u001b[0m\u001b[0;34m)\u001b[0m\u001b[0;34m\u001b[0m\u001b[0;34m\u001b[0m\u001b[0m\n\u001b[0m",
            "\u001b[0;31mNameError\u001b[0m: name 'np' is not defined"
          ]
        }
      ]
    },
    {
      "cell_type": "code",
      "metadata": {
        "id": "n4wUoI3F747t"
      },
      "source": [
        "def plot_one_history(x, y1, y2, input='loss', y1_label='Loss', y2_label='Validation loss', kind='plot'):\n",
        "  \n",
        "  title = \"Loss's history\"\n",
        "  if input == 'acc':\n",
        "    y1_label, y2_label = 'Accuracy', 'Validation Accuracy'\n",
        "    title = \"Accuracy's history\"\n",
        "  y_labl = y1_label\n",
        "\n",
        "  labels=('Epochs', 'accuracy')\n",
        "  if kind == 'scatter':\n",
        "    plt.scatter(x, y1, label=y1_label)\n",
        "    plt.scatter(x, y2, label=y2_label)\n",
        "  else:\n",
        "    plt.plot(x, y1, label=y1_label)\n",
        "    plt.plot(x, y2, label=y2_label)\n",
        "  \n",
        "  plt.xlabel(\"Epochs\", c='darkred')\n",
        "  plt.ylabel(y_labl, c='darkblue')\n",
        "  plt.title(title, c='darkgreen')\n",
        "  plt.legend()\n",
        "\n",
        "def plot_history(hist,name:str,figsize=(17, 5), kind='plot'):\n",
        "  plt.figure(figsize=figsize)\n",
        "  # Premier graphique : celle de gauche\n",
        "  nb_epoch = range(1, len(hist.history['accuracy'])+1)\n",
        "  plt.subplot(1, 2, 1)\n",
        "\n",
        "  hist_acc = hist.history['accuracy']\n",
        "  hist_val_acc = hist.history['val_accuracy']\n",
        "  plot_one_history(x=nb_epoch, y1=hist_acc, y2=hist_val_acc, input='acc', kind=kind)\n",
        "\n",
        "  # Seconde graphique : celle de droite\n",
        "  plt.subplot(1,2,2)\n",
        "  hist_loss     = hist.history['loss']\n",
        "  hist_val_loss = hist.history['val_loss']\n",
        "  plot_one_history(x=nb_epoch, y1=hist_loss, y2=hist_val_loss, input='loss', kind=kind)\n",
        "  plt.show()"
      ],
      "execution_count": null,
      "outputs": []
    },
    {
      "cell_type": "code",
      "metadata": {
        "id": "grzFLPY57448"
      },
      "source": [
        "# plot_history(hist, 'model_1.svg', kind='plot')"
      ],
      "execution_count": null,
      "outputs": []
    },
    {
      "cell_type": "code",
      "metadata": {
        "id": "HimstSsxZCDA"
      },
      "source": [
        "# max_input_length =  max_len(train_set.english)\n",
        "# eng_tok, encoder_input_data = tokenize(train_set.english, max_input_length)\n",
        "\n",
        "encoder_test_data = eng_tok.texts_to_sequences(test_set.english)\n",
        "encoder_test_data = pad_sequences(encoder_test_data, maxlen=max_input_length)\n",
        "predict = model.predict(encoder_test_data)"
      ],
      "execution_count": null,
      "outputs": []
    },
    {
      "cell_type": "code",
      "metadata": {
        "id": "nI9_2ZJER0OT"
      },
      "source": [
        "print(inspect.getsource(tokenize))"
      ],
      "execution_count": null,
      "outputs": []
    },
    {
      "cell_type": "code",
      "metadata": {
        "id": "VBiZdAQYR7HB"
      },
      "source": [
        ""
      ],
      "execution_count": null,
      "outputs": []
    }
  ]
}